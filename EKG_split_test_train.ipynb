{
 "cells": [
  {
   "cell_type": "markdown",
   "metadata": {},
   "source": [
    "# EKG "
   ]
  },
  {
   "cell_type": "markdown",
   "metadata": {},
   "source": [
    "### In this notebook I will create Test and Train Folders under Data Folder and split the data %20 / %80"
   ]
  },
  {
   "cell_type": "code",
   "execution_count": 2,
   "metadata": {},
   "outputs": [],
   "source": [
    "# Import packages\n",
    "\n",
    "# for numerical analysis\n",
    "import numpy as np # linear algebra\n",
    "\n",
    "# to store and process in a dataframe\n",
    "import pandas as pd # data processing, CSV file I/O (e.g. pd.read_csv)"
   ]
  },
  {
   "cell_type": "code",
   "execution_count": 3,
   "metadata": {},
   "outputs": [],
   "source": [
    "import warnings\n",
    "warnings.filterwarnings('ignore', category=FutureWarning)"
   ]
  },
  {
   "cell_type": "code",
   "execution_count": 4,
   "metadata": {},
   "outputs": [],
   "source": [
    "# file operations\n",
    "\n",
    "import shutil\n",
    "import os\n",
    "from os import walk"
   ]
  },
  {
   "cell_type": "code",
   "execution_count": 5,
   "metadata": {},
   "outputs": [
    {
     "data": {
      "text/plain": [
       "'/Users/Murat/Desktop/ECG_Project'"
      ]
     },
     "execution_count": 5,
     "metadata": {},
     "output_type": "execute_result"
    }
   ],
   "source": [
    "# current working directory\n",
    "\n",
    "base_dir = os.getcwd()\n",
    "base_dir"
   ]
  },
  {
   "cell_type": "code",
   "execution_count": 6,
   "metadata": {},
   "outputs": [
    {
     "name": "stdout",
     "output_type": "stream",
     "text": [
      "EKG.ipynb                   EKG_split_test_train.ipynb\r\n",
      "EKG_EDA.ipynb               \u001b[1m\u001b[36mMITBIH_img\u001b[m\u001b[m/\r\n"
     ]
    }
   ],
   "source": [
    "ls"
   ]
  },
  {
   "cell_type": "code",
   "execution_count": 7,
   "metadata": {},
   "outputs": [
    {
     "data": {
      "text/plain": [
       "'/Users/Murat/Desktop/ECG_Project/MITBIH_img'"
      ]
     },
     "execution_count": 7,
     "metadata": {},
     "output_type": "execute_result"
    }
   ],
   "source": [
    "data_dir =  os.path.join(base_dir, \"MITBIH_img\")\n",
    "data_dir"
   ]
  },
  {
   "cell_type": "markdown",
   "metadata": {},
   "source": [
    ". F (Fusion beat) - 801 images\n",
    "\n",
    ". N (Normal beat) - 90,589 images\n",
    "\n",
    ". Q (Unknown beat) - 8,038 images\n",
    "\n",
    ". S (Supraventricular ectopic beat) - 2,779 images\n",
    "\n",
    ". V (Ventricular ectopic beat) - 7,236 images"
   ]
  },
  {
   "cell_type": "code",
   "execution_count": 9,
   "metadata": {},
   "outputs": [
    {
     "name": "stdout",
     "output_type": "stream",
     "text": [
      "MITBIH_img - 5\n",
      "    N - 90589\n",
      "    S - 2779\n",
      "    F - 803\n",
      "    V - 7236\n",
      "    Q - 8038\n"
     ]
    }
   ],
   "source": [
    "# no. of files\n",
    "\n",
    "def list_files(startpath):\n",
    "    \n",
    "    for root, dirs, files in os.walk(startpath):\n",
    "        \n",
    "        level = root.replace(startpath, '').count(os.sep)\n",
    "        \n",
    "        indent = ' ' * 4 * (level)\n",
    "        \n",
    "        print('{}{}'.format(indent, os.path.basename(root)), '-', len(os.listdir(root)))\n",
    "        \n",
    "folder = data_dir\n",
    "list_files(folder)"
   ]
  },
  {
   "cell_type": "code",
   "execution_count": 10,
   "metadata": {},
   "outputs": [
    {
     "name": "stdout",
     "output_type": "stream",
     "text": [
      "There are 5 different classes.\n",
      "['N', 'S', 'F', 'V', 'Q']\n"
     ]
    }
   ],
   "source": [
    "# Classes in the data\n",
    "\n",
    "ECG_list = os.listdir(data_dir)\n",
    "\n",
    "n_classes = len(ECG_list)\n",
    "\n",
    "print(f'There are {n_classes} different classes.')\n",
    "\n",
    "print(ECG_list)"
   ]
  },
  {
   "cell_type": "markdown",
   "metadata": {},
   "source": [
    "## Create Test and Train Folders"
   ]
  },
  {
   "cell_type": "code",
   "execution_count": 11,
   "metadata": {},
   "outputs": [],
   "source": [
    "os.makedirs('/Users/Murat/Desktop/ECG_Project/data/train/N', exist_ok = True)\n",
    "os.makedirs('/Users/Murat/Desktop/ECG_Project/data/train/F', exist_ok = True)\n",
    "os.makedirs('/Users/Murat/Desktop/ECG_Project/data/train/Q', exist_ok = True)\n",
    "os.makedirs('/Users/Murat/Desktop/ECG_Project/data/train/V', exist_ok = True)\n",
    "os.makedirs('/Users/Murat/Desktop/ECG_Project/data/train/S', exist_ok = True)\n",
    "\n",
    "\n",
    "os.makedirs('/Users/Murat/Desktop/ECG_Project/data/test/N', exist_ok = True)\n",
    "os.makedirs('/Users/Murat/Desktop/ECG_Project/data/test/F', exist_ok = True)\n",
    "os.makedirs('/Users/Murat/Desktop/ECG_Project/data/test/Q', exist_ok = True)\n",
    "os.makedirs('/Users/Murat/Desktop/ECG_Project/data/test/V', exist_ok = True)\n",
    "os.makedirs('/Users/Murat/Desktop/ECG_Project/data/test/S', exist_ok = True)"
   ]
  },
  {
   "cell_type": "markdown",
   "metadata": {},
   "source": [
    "## Check Folders"
   ]
  },
  {
   "cell_type": "code",
   "execution_count": 12,
   "metadata": {},
   "outputs": [
    {
     "name": "stdout",
     "output_type": "stream",
     "text": [
      "/Users/Murat/Desktop/ECG_Project\n",
      "/Users/Murat/Desktop/ECG_Project/.ipynb_checkpoints\n",
      "/Users/Murat/Desktop/ECG_Project/data\n",
      "/Users/Murat/Desktop/ECG_Project/data/test\n",
      "/Users/Murat/Desktop/ECG_Project/data/test/N\n",
      "/Users/Murat/Desktop/ECG_Project/data/test/S\n",
      "/Users/Murat/Desktop/ECG_Project/data/test/F\n",
      "/Users/Murat/Desktop/ECG_Project/data/test/V\n",
      "/Users/Murat/Desktop/ECG_Project/data/test/Q\n",
      "/Users/Murat/Desktop/ECG_Project/data/train\n",
      "/Users/Murat/Desktop/ECG_Project/data/train/N\n",
      "/Users/Murat/Desktop/ECG_Project/data/train/S\n",
      "/Users/Murat/Desktop/ECG_Project/data/train/F\n",
      "/Users/Murat/Desktop/ECG_Project/data/train/V\n",
      "/Users/Murat/Desktop/ECG_Project/data/train/Q\n",
      "/Users/Murat/Desktop/ECG_Project/MITBIH_img\n",
      "/Users/Murat/Desktop/ECG_Project/MITBIH_img/N\n",
      "/Users/Murat/Desktop/ECG_Project/MITBIH_img/S\n",
      "/Users/Murat/Desktop/ECG_Project/MITBIH_img/F\n",
      "/Users/Murat/Desktop/ECG_Project/MITBIH_img/V\n",
      "/Users/Murat/Desktop/ECG_Project/MITBIH_img/Q\n"
     ]
    }
   ],
   "source": [
    "for root, dirs, files in os.walk(base_dir):\n",
    "    print(root)"
   ]
  },
  {
   "cell_type": "markdown",
   "metadata": {},
   "source": [
    "## Create Train and Test Files"
   ]
  },
  {
   "cell_type": "markdown",
   "metadata": {},
   "source": [
    "### %20 Test %80 Train"
   ]
  },
  {
   "cell_type": "markdown",
   "metadata": {},
   "source": [
    "## F Folder"
   ]
  },
  {
   "cell_type": "code",
   "execution_count": 13,
   "metadata": {
    "jupyter": {
     "outputs_hidden": true
    }
   },
   "outputs": [
    {
     "name": "stdout",
     "output_type": "stream",
     "text": [
      "done\n"
     ]
    }
   ],
   "source": [
    "F_imgs = os.listdir('/Users/Murat/Desktop/ECG_Project/MITBIH_img/F')\n",
    "\n",
    "for file_name in F_imgs[0:round(len(F_imgs)/5)]:\n",
    "    \n",
    "    full_file_name = os.path.join('../ECG_Project/MITBIH_img/F', file_name);\n",
    "    \n",
    "    if os.path.isfile(full_file_name):\n",
    "        \n",
    "        a = shutil.copy(full_file_name, '../ECG_Project/data/test/F');\n",
    "        \n",
    "for file_name in F_imgs[round(len(F_imgs)/5):]:\n",
    "    \n",
    "    full_file_name = os.path.join('../ECG_Project/MITBIH_img/F', file_name);\n",
    "    \n",
    "    if os.path.isfile(full_file_name):\n",
    "        \n",
    "        a = shutil.copy(full_file_name, '../ECG_Project/data/train/F');\n",
    "        \n",
    "print(\"done\")"
   ]
  },
  {
   "cell_type": "markdown",
   "metadata": {},
   "source": [
    "## Q Folder"
   ]
  },
  {
   "cell_type": "code",
   "execution_count": 14,
   "metadata": {
    "jupyter": {
     "outputs_hidden": true
    }
   },
   "outputs": [
    {
     "name": "stdout",
     "output_type": "stream",
     "text": [
      "done\n"
     ]
    }
   ],
   "source": [
    "Q_imgs = os.listdir('/Users/Murat/Desktop/ECG_Project/MITBIH_img/Q')\n",
    "\n",
    "for file_name in Q_imgs[0:round(len(Q_imgs)/5)]:\n",
    "    \n",
    "    full_file_name = os.path.join('../ECG_Project/MITBIH_img/Q', file_name);\n",
    "    \n",
    "    if os.path.isfile(full_file_name):\n",
    "        \n",
    "        a = shutil.copy(full_file_name, '../ECG_Project/data/test/Q');\n",
    "        \n",
    "\n",
    "for file_name in Q_imgs[round(len(Q_imgs)/5):]:\n",
    "    \n",
    "    full_file_name = os.path.join('../ECG_Project/MITBIH_img/Q', file_name);\n",
    "    \n",
    "    if os.path.isfile(full_file_name):\n",
    "        \n",
    "        a = shutil.copy(full_file_name, '../ECG_Project/data/train/Q');\n",
    "        \n",
    "print(\"done\")"
   ]
  },
  {
   "cell_type": "markdown",
   "metadata": {},
   "source": [
    "## V Folder"
   ]
  },
  {
   "cell_type": "code",
   "execution_count": 15,
   "metadata": {
    "jupyter": {
     "outputs_hidden": true
    }
   },
   "outputs": [
    {
     "name": "stdout",
     "output_type": "stream",
     "text": [
      "done\n"
     ]
    }
   ],
   "source": [
    "V_imgs = os.listdir('/Users/Murat/Desktop/ECG_Project/MITBIH_img/V')\n",
    "\n",
    "for file_name in V_imgs[0:round(len(V_imgs)/5)]:\n",
    "    \n",
    "    full_file_name = os.path.join('../ECG_Project/MITBIH_img/V', file_name);\n",
    "    \n",
    "    if os.path.isfile(full_file_name):\n",
    "        \n",
    "        a = shutil.copy(full_file_name, '../ECG_Project/data/test/V');\n",
    "        \n",
    "\n",
    "for file_name in V_imgs[round(len(V_imgs)/5):]:\n",
    "    \n",
    "    full_file_name = os.path.join('../ECG_Project/MITBIH_img/V', file_name);\n",
    "    \n",
    "    if os.path.isfile(full_file_name):\n",
    "        \n",
    "        a = shutil.copy(full_file_name, '../ECG_Project/data/train/V');\n",
    "        \n",
    "print(\"done\")"
   ]
  },
  {
   "cell_type": "markdown",
   "metadata": {},
   "source": [
    "## S Folder"
   ]
  },
  {
   "cell_type": "code",
   "execution_count": 16,
   "metadata": {
    "jupyter": {
     "outputs_hidden": true
    }
   },
   "outputs": [
    {
     "name": "stdout",
     "output_type": "stream",
     "text": [
      "done\n"
     ]
    }
   ],
   "source": [
    "S_imgs = os.listdir('/Users/Murat/Desktop/ECG_Project/MITBIH_img/S')\n",
    "\n",
    "for file_name in S_imgs[0:round(len(S_imgs)/5)]:\n",
    "    \n",
    "    full_file_name = os.path.join('../ECG_Project/MITBIH_img/S', file_name);\n",
    "    \n",
    "    if os.path.isfile(full_file_name):\n",
    "        \n",
    "        a = shutil.copy(full_file_name, '../ECG_Project/data/test/S');\n",
    "        \n",
    "\n",
    "for file_name in S_imgs[round(len(S_imgs)/5):]:\n",
    "    \n",
    "    full_file_name = os.path.join('../ECG_Project/MITBIH_img/S', file_name);\n",
    "    \n",
    "    if os.path.isfile(full_file_name):\n",
    "        \n",
    "        a = shutil.copy(full_file_name, '../ECG_Project/data/train/S');\n",
    "\n",
    "print(\"done\")"
   ]
  },
  {
   "cell_type": "markdown",
   "metadata": {},
   "source": [
    "## N Folder"
   ]
  },
  {
   "cell_type": "code",
   "execution_count": 18,
   "metadata": {
    "jupyter": {
     "outputs_hidden": true
    }
   },
   "outputs": [
    {
     "name": "stdout",
     "output_type": "stream",
     "text": [
      "done\n"
     ]
    }
   ],
   "source": [
    "N_imgs = os.listdir('/Users/Murat/Desktop/ECG_Project/MITBIH_img/N')\n",
    "\n",
    "for file_name in N_imgs[0:round(len(N_imgs)/5)]:\n",
    "    \n",
    "    full_file_name = os.path.join('../ECG_Project/MITBIH_img/N', file_name);\n",
    "    \n",
    "    if os.path.isfile(full_file_name):\n",
    "        \n",
    "        a = shutil.copy(full_file_name, '../ECG_Project/data/test/N');\n",
    "        \n",
    "        \n",
    "for file_name in N_imgs[round(len(N_imgs)/5):]:\n",
    "    \n",
    "    full_file_name = os.path.join('../ECG_Project/MITBIH_img/N', file_name);\n",
    "    \n",
    "    if os.path.isfile(full_file_name):\n",
    "        \n",
    "        a = shutil.copy(full_file_name, '../ECG_Project/data/train/N');\n",
    "        \n",
    "print(\"done\")"
   ]
  },
  {
   "cell_type": "code",
   "execution_count": 19,
   "metadata": {},
   "outputs": [
    {
     "name": "stdout",
     "output_type": "stream",
     "text": [
      "data - 2\n",
      "    test - 5\n",
      "        N - 18118\n",
      "        S - 556\n",
      "        F - 161\n",
      "        V - 1447\n",
      "        Q - 1608\n",
      "    train - 5\n",
      "        N - 72471\n",
      "        S - 2223\n",
      "        F - 642\n",
      "        V - 5789\n",
      "        Q - 6430\n"
     ]
    }
   ],
   "source": [
    "# no. of files\n",
    "        \n",
    "folder = base_dir+'/data'\n",
    "list_files(folder)"
   ]
  },
  {
   "cell_type": "code",
   "execution_count": 20,
   "metadata": {},
   "outputs": [
    {
     "name": "stdout",
     "output_type": "stream",
     "text": [
      "number of N images at the original file:  90589\n",
      "total number of train and test picts:     90589\n"
     ]
    }
   ],
   "source": [
    "N_imgs       = len(os.listdir('/Users/Murat/Desktop/ECG_Project/MITBIH_img/N'))\n",
    "N_train_imgs = len(os.listdir('/Users/Murat/Desktop/ECG_Project/data/train/N'))\n",
    "N_test_imgs  = len(os.listdir('/Users/Murat/Desktop/ECG_Project/data/test/N'))\n",
    "print('number of N images at the original file: ', N_imgs)\n",
    "print('total number of train and test picts:    ', N_train_imgs + N_test_imgs)"
   ]
  },
  {
   "cell_type": "code",
   "execution_count": 21,
   "metadata": {},
   "outputs": [
    {
     "name": "stdout",
     "output_type": "stream",
     "text": [
      "number of S images at the original file:  2779\n",
      "total number of train and test picts:     2779\n"
     ]
    }
   ],
   "source": [
    "S_imgs       = len(os.listdir('/Users/Murat/Desktop/ECG_Project/MITBIH_img/S'))\n",
    "S_train_imgs = len(os.listdir('/Users/Murat/Desktop/ECG_Project/data/train/S'))\n",
    "S_test_imgs  = len(os.listdir('/Users/Murat/Desktop/ECG_Project/data/test/S'))\n",
    "print('number of S images at the original file: ', S_imgs)\n",
    "print('total number of train and test picts:    ', S_train_imgs + S_test_imgs)"
   ]
  },
  {
   "cell_type": "code",
   "execution_count": 22,
   "metadata": {},
   "outputs": [
    {
     "name": "stdout",
     "output_type": "stream",
     "text": [
      "number of F images at the original file:  803\n",
      "total number of train and test picts:     803\n"
     ]
    }
   ],
   "source": [
    "F_imgs       = len(os.listdir('/Users/Murat/Desktop/ECG_Project/MITBIH_img/F'))\n",
    "F_train_imgs = len(os.listdir('/Users/Murat/Desktop/ECG_Project/data/train/F'))\n",
    "F_test_imgs  = len(os.listdir('/Users/Murat/Desktop/ECG_Project/data/test/F'))\n",
    "print('number of F images at the original file: ', F_imgs)\n",
    "print('total number of train and test picts:    ', F_train_imgs + F_test_imgs)"
   ]
  },
  {
   "cell_type": "code",
   "execution_count": 23,
   "metadata": {},
   "outputs": [
    {
     "name": "stdout",
     "output_type": "stream",
     "text": [
      "number of V images at the original file:  7236\n",
      "total number of train and test picts:     7236\n"
     ]
    }
   ],
   "source": [
    "V_imgs       = len(os.listdir('/Users/Murat/Desktop/ECG_Project/MITBIH_img/V'))\n",
    "V_train_imgs = len(os.listdir('/Users/Murat/Desktop/ECG_Project/data/train/V'))\n",
    "V_test_imgs  = len(os.listdir('/Users/Murat/Desktop/ECG_Project/data/test/V'))\n",
    "print('number of V images at the original file: ', V_imgs)\n",
    "print('total number of train and test picts:    ', V_train_imgs + V_test_imgs)"
   ]
  },
  {
   "cell_type": "code",
   "execution_count": 24,
   "metadata": {},
   "outputs": [
    {
     "name": "stdout",
     "output_type": "stream",
     "text": [
      "number of Q images at the original file:  8038\n",
      "total number of train and test picts:     8038\n"
     ]
    }
   ],
   "source": [
    "Q_imgs       = len(os.listdir('/Users/Murat/Desktop/ECG_Project/MITBIH_img/Q'))\n",
    "Q_train_imgs = len(os.listdir('/Users/Murat/Desktop/ECG_Project/data/train/Q'))\n",
    "Q_test_imgs  = len(os.listdir('/Users/Murat/Desktop/ECG_Project/data/test/Q'))\n",
    "print('number of Q images at the original file: ', Q_imgs)\n",
    "print('total number of train and test picts:    ', Q_train_imgs + Q_test_imgs)"
   ]
  },
  {
   "cell_type": "markdown",
   "metadata": {},
   "source": [
    "### All Test and Train folders are created and ratios are ok"
   ]
  }
 ],
 "metadata": {
  "kernelspec": {
   "display_name": "Python 3",
   "language": "python",
   "name": "python3"
  },
  "language_info": {
   "codemirror_mode": {
    "name": "ipython",
    "version": 3
   },
   "file_extension": ".py",
   "mimetype": "text/x-python",
   "name": "python",
   "nbconvert_exporter": "python",
   "pygments_lexer": "ipython3",
   "version": "3.7.3"
  },
  "toc": {
   "base_numbering": 1,
   "nav_menu": {},
   "number_sections": false,
   "sideBar": true,
   "skip_h1_title": true,
   "title_cell": "Table of Contents",
   "title_sidebar": "Contents",
   "toc_cell": false,
   "toc_position": {},
   "toc_section_display": true,
   "toc_window_display": false
  }
 },
 "nbformat": 4,
 "nbformat_minor": 4
}
